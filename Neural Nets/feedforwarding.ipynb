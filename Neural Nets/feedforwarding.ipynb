{
 "cells": [
  {
   "cell_type": "markdown",
   "metadata": {},
   "source": [
    "# **Feedforwarding** #"
   ]
  },
  {
   "cell_type": "markdown",
   "metadata": {},
   "source": [
    "![Net Example](images/feedforwarding_example_net.png)"
   ]
  },
  {
   "cell_type": "code",
   "execution_count": 3,
   "metadata": {},
   "outputs": [],
   "source": [
    "import numpy as np"
   ]
  },
  {
   "cell_type": "code",
   "execution_count": 31,
   "metadata": {},
   "outputs": [
    {
     "data": {
      "text/plain": [
       "array([2, 4, 3])"
      ]
     },
     "execution_count": 31,
     "metadata": {},
     "output_type": "execute_result"
    }
   ],
   "source": [
    "#Input\n",
    "X = np.random.randint(low=1, high= 5, size=3)\n",
    "X"
   ]
  },
  {
   "cell_type": "code",
   "execution_count": 32,
   "metadata": {},
   "outputs": [
    {
     "name": "stdout",
     "output_type": "stream",
     "text": [
      "W1\n",
      "[[0.54561788 0.41860175 0.21813629]\n",
      " [0.9189457  0.07901461 0.77270461]\n",
      " [0.63719927 0.93520128 0.77766581]]\n",
      "\n",
      "W1\n",
      "[[0.31545192 0.31393399 0.33214544 0.1595032 ]\n",
      " [0.29211232 0.68071392 0.36608641 0.14832224]\n",
      " [0.82856723 0.15359991 0.23089978 0.27036171]]\n",
      "\n",
      "W3\n",
      "[[0.23744591]\n",
      " [0.23743104]\n",
      " [0.37898677]\n",
      " [0.18995845]]\n"
     ]
    }
   ],
   "source": [
    "#Weights \n",
    "\n",
    "#Because X shape is (1,3) and there are 3 nodes on Layer 1, the weights matrix should be (3 x 3).\n",
    "#We'll have a matrix with the same shape as the product of WT dot X that would be the biases array (B)\n",
    "W1 = np.random.rand(3,3)\n",
    "\n",
    "#Same logic for W2 (3X4), 3 nodes from Layer 1 times 4 nodes from Layer 2\n",
    "W2 = np.random.rand(3,4)\n",
    "\n",
    "#Again, for Layer 3, (4 x 1)\n",
    "W3 = np.random.rand(4,1)\n",
    "\n",
    "print('W1')\n",
    "print(W1)\n",
    "print('')\n",
    "print('W1')\n",
    "print(W2)\n",
    "print('')\n",
    "print('W3')\n",
    "print(W3)"
   ]
  },
  {
   "cell_type": "code",
   "execution_count": 33,
   "metadata": {},
   "outputs": [
    {
     "data": {
      "text/plain": [
       "array([6.67861638, 3.9588658 , 5.86008845])"
      ]
     },
     "execution_count": 33,
     "metadata": {},
     "output_type": "execute_result"
    }
   ],
   "source": [
    "#Layer 1\n",
    "l1 = np.dot(W1.T,X)\n",
    "l1"
   ]
  },
  {
   "cell_type": "code",
   "execution_count": 34,
   "metadata": {},
   "outputs": [
    {
     "data": {
      "text/plain": [
       "array([8.11869307, 5.69160881, 5.0206521 , 3.23679207])"
      ]
     },
     "execution_count": 34,
     "metadata": {},
     "output_type": "execute_result"
    }
   ],
   "source": [
    "#Layer 2\n",
    "l2 = np.dot(W2.T,l1)\n",
    "l2"
   ]
  },
  {
   "cell_type": "code",
   "execution_count": 35,
   "metadata": {},
   "outputs": [
    {
     "data": {
      "text/plain": [
       "array([5.79673175])"
      ]
     },
     "execution_count": 35,
     "metadata": {},
     "output_type": "execute_result"
    }
   ],
   "source": [
    "#Layer 3\n",
    "l3 = np.dot(W3.T,l2)\n",
    "l3"
   ]
  },
  {
   "cell_type": "markdown",
   "metadata": {},
   "source": [
    "#### Now let's suppose that this is a classification problem, so the ouput function will be sigmoid and for this example the hidden layer will be ReLu ####"
   ]
  },
  {
   "cell_type": "code",
   "execution_count": 42,
   "metadata": {},
   "outputs": [],
   "source": [
    "def ReLu(x):\n",
    "    if x < 0:\n",
    "        return 0\n",
    "    else:\n",
    "        return x\n",
    "    \n",
    "VReLu = np.vectorize(ReLu)"
   ]
  },
  {
   "cell_type": "code",
   "execution_count": 43,
   "metadata": {},
   "outputs": [],
   "source": [
    "def sigmoid(x):\n",
    "    return 1 / (1 + np.exp(-x))\n",
    "\n",
    "VSigmoid = np.vectorize(sigmoid)"
   ]
  },
  {
   "cell_type": "code",
   "execution_count": 48,
   "metadata": {},
   "outputs": [],
   "source": [
    "#Putting everything together\n",
    "def feedforwarding(X):\n",
    "    \n",
    "    l1 = VReLu(np.dot(W1.T,X))\n",
    "    l2 = VReLu(np.dot(W2.T,l1))\n",
    "    g = VSigmoid(np.dot(W3.T,l2))\n",
    "\n",
    "    return g"
   ]
  },
  {
   "cell_type": "code",
   "execution_count": 47,
   "metadata": {},
   "outputs": [
    {
     "data": {
      "text/plain": [
       "array([0.99697173])"
      ]
     },
     "execution_count": 47,
     "metadata": {},
     "output_type": "execute_result"
    }
   ],
   "source": [
    "feedforwarding(X)"
   ]
  },
  {
   "cell_type": "code",
   "execution_count": null,
   "metadata": {},
   "outputs": [],
   "source": []
  }
 ],
 "metadata": {
  "kernelspec": {
   "display_name": "base",
   "language": "python",
   "name": "python3"
  },
  "language_info": {
   "codemirror_mode": {
    "name": "ipython",
    "version": 3
   },
   "file_extension": ".py",
   "mimetype": "text/x-python",
   "name": "python",
   "nbconvert_exporter": "python",
   "pygments_lexer": "ipython3",
   "version": "3.11.4"
  }
 },
 "nbformat": 4,
 "nbformat_minor": 2
}
