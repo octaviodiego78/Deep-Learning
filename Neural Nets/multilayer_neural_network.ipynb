{
 "cells": [
  {
   "cell_type": "markdown",
   "metadata": {},
   "source": [
    "# **Coding the full net** ##"
   ]
  },
  {
   "cell_type": "code",
   "execution_count": 1,
   "metadata": {},
   "outputs": [],
   "source": [
    "import numpy as np\n",
    "import matplotlib.pyplot as plt\n"
   ]
  },
  {
   "cell_type": "code",
   "execution_count": 2,
   "metadata": {},
   "outputs": [],
   "source": [
    "class Preprocessing:\n",
    "    def __init__(self):\n",
    "        pass\n",
    "\n",
    "    def train_test_split(self, X, y, test_size=.20, seed = 5):\n",
    "        \"\"\" \n",
    "        Recieves a X and y vector\n",
    "        Returns:\n",
    "                X_train, X_test, y_train, y_test\n",
    "        \"\"\"\n",
    "        np.random.seed(seed)\n",
    "        n_rows = X.shape[0]\n",
    "        n_samples = int(np.ceil(X.shape[0]*.2))\n",
    "        test_idexes = np.random.randint(0, X.shape[0], n_samples)\n",
    "        train_indexes = [i for i in range(n_rows) if i not in test_idexes]\n",
    "\n",
    "\n",
    "        return  X[train_indexes], X[test_idexes], y[train_indexes], y[test_idexes]\n"
   ]
  },
  {
   "cell_type": "code",
   "execution_count": 3,
   "metadata": {},
   "outputs": [],
   "source": [
    "class Network():\n",
    "\n",
    "    \"\"\"\n",
    "    Recieves the shape of each layer in the network and their activation function as a list of tuples\n",
    "        [\n",
    "          (10, 'sigmoid')     --> Layer 1 has 3 nodes\n",
    "        ,  (3, 'relu)\n",
    "        , (4, 'relu')    --> Layer 2 has 4 nodes\n",
    "        , (1, 'sigmoid')    --> Outpur layer has 1 node\n",
    "        ]\n",
    "    \"\"\"\n",
    "\n",
    "    def __init__(self, layers):\n",
    "        self.layers = layers\n",
    "        self.weights, self.biases = self.initialize_weights(layers)\n",
    "\n",
    "    def sigmoid(self, x):\n",
    "        return 1 / (1 + np.exp(-x))\n",
    "    \n",
    "    def sigmoidPrime(self, x):\n",
    "        return x * (1 - x)\n",
    "    \n",
    "    def relu(self, x):\n",
    "        return np.maximum(0, x)\n",
    "\n",
    "    def reluPrime(self, x):\n",
    "        return np.where(x > 0, 1, 0)\n",
    "    \n",
    "    \n",
    "    def functionsMapping(self, func_name):\n",
    "        self.fs = { \n",
    "            \"sigmoid\": {\"normal\": self.sigmoid, \"prime\": self.sigmoidPrime},\n",
    "            \"relu\": {\"normal\": self.relu, \"prime\": self.reluPrime}}\n",
    "        \n",
    "        return self.fs.get(func_name)\n",
    "    \n",
    "    def initialize_weights(self,layers):\n",
    "        weights = []\n",
    "        biases = []\n",
    "        for i in range(len(layers) -1):\n",
    "            w = np.random.randn(layers[i][0],layers[i+1][0]) * 0.01\n",
    "            b = np.zeros((layers[i + 1][0], 1))\n",
    "            weights.append(w)\n",
    "            biases.append(b)\n",
    "            \n",
    "        return weights, biases\n",
    "            \n",
    "\n",
    "    def feedforwarding(self ,X): #Where to add bias here\n",
    "        activations = [X]\n",
    "        for i in range(len(self.weights)):\n",
    "            z = np.dot(self.weights[i].T,activations[-1]) + self.biases[i]\n",
    "\n",
    "            if i>0:\n",
    "                activationFunction = self.functionsMapping(self.layers[i][1]).get(\"normal\")\n",
    "                A = activationFunction(z)\n",
    "            else:\n",
    "                A = z\n",
    "            \n",
    "            activations.append(A)\n",
    "        return activations\n",
    "    \n",
    "    def calculateLoss(self, Y,Y_pred):\n",
    "        return np.mean((Y_pred - Y)**2)\n",
    "    \n",
    "    def backpropagation(self, activations, Y):\n",
    "        m = Y.shape[1]\n",
    "        wGradients = [np.zeros_like(w) for w in self.weights]\n",
    "        bGradients = [np.zeros_like(b) for b in self.biases]\n",
    "\n",
    "        delta = activations[-1] - Y\n",
    "\n",
    "        for i in reversed(range(len(self.weights))): # Iterate backwards through each layer\n",
    "            funcName = self.layers[i + 1][1] if i > 0 else None\n",
    "            actDerivative = self.functionsMapping(funcName).get(\"prime\")(activations[i+1]) if funcName else 1 #Passing the layer through the derivative function \n",
    "\n",
    "            dz = delta * actDerivative #Element wise multiplication. \n",
    "            #The derivative indicates how much the layer function would change if we change the previous weights\n",
    "            #Then we multiply that with the delta, so we can change more the values that are the farthest and the ones that would make more impact to the funct\n",
    "\n",
    "            wGradients[i] = np.dot(activations[i], dz.T) / m\n",
    "            bGradients[i] = np.sum(dz, axis=1, keepdims=True) / m # Getting the average of all training exmple requested changes to bias\n",
    "\n",
    "\n",
    "            if i > 0:\n",
    "                delta = np.dot(self.weights[i],dz)\n",
    "\n",
    "            #wGradients is a lit with the same amount of elements as weights list, and each element inside has the same shape\n",
    "            #So, basically we're indicating how much to change each weights array, 3 elements bc we have 4 layers\n",
    "            #weights array includes the weights of each combination of edges between layers for all samples in the dataset\n",
    "            return wGradients, bGradients \n",
    "            \n",
    "\n",
    "        \n",
    "\n",
    "    def fit(self,X_train, y_train, epochs, learning_rate=0.01):\n",
    "        X_train = X_train.T #X_train should have shape (n_features, n_samples)\n",
    "        losses = []\n",
    "        for epoch in range(epochs):\n",
    "\n",
    "            #Compute forward for all samples in the dataset\n",
    "            activations = self.feedforwarding(X_train)\n",
    "\n",
    "            #Compute loss - Average delta between output layer value and pred value from all samples in the dataset\n",
    "            loss = self.calculateLoss(y_train, activations[-1])\n",
    "            losses.append(loss)\n",
    "\n",
    "            #Backpropagation\n",
    "            w_gradients, b_gradients = self.backpropagation(activations, y_train)\n",
    "\n",
    "            #Updaate weights and biases\n",
    "            for i in range(len(self.weights)):\n",
    "                self.weights[i] -= learning_rate*w_gradients[i]\n",
    "                self.biases[i] -= learning_rate*b_gradients[i]\n",
    "\n",
    "        return losses\n",
    "\n",
    "    def predict(self,X):\n",
    "        X = X.T\n",
    "        activations = self.feedforwarding(X)\n",
    "        return activations[-1]\n",
    "\n"
   ]
  },
  {
   "cell_type": "code",
   "execution_count": 4,
   "metadata": {},
   "outputs": [
    {
     "name": "stdout",
     "output_type": "stream",
     "text": [
      "Predictions: [[0.43999681 0.43999924 0.43999762 0.44000512]]\n",
      "Binary Predictions: [[0 0 0 0]]\n"
     ]
    },
    {
     "data": {
      "text/plain": [
       "[<matplotlib.lines.Line2D at 0x11f7c0510>]"
      ]
     },
     "execution_count": 4,
     "metadata": {},
     "output_type": "execute_result"
    },
    {
     "data": {
      "image/png": "[encoded data removed]",
      "text/plain": [
       "<Figure size 640x480 with 1 Axes>"
      ]
     },
     "metadata": {},
     "output_type": "display_data"
    }
   ],
   "source": [
    "import numpy as np\n",
    "\n",
    "# Instantiate the network\n",
    "layers = [(2, None), (4, 'relu'), (4, 'relu'), (1, 'sigmoid')]  # 2 input features, hidden layers, 1 output neuron\n",
    "nn = Network(layers)\n",
    "\n",
    "# Create a toy dataset for binary classification\n",
    "np.random.seed(42)\n",
    "X_train = np.random.randn(100, 2)  # 100 samples, 2 features (x1, x2)\n",
    "y_train = np.array([1 if x1 + x2 > 0 else 0 for x1, x2 in X_train])  # Label based on x1 + x2 > 0\n",
    "y_train = y_train.reshape(1, -1)  # Reshape to (1, 100) for compatibility with the network\n",
    "\n",
    "# Train the network\n",
    "losses = nn.fit(X_train, y_train, epochs=1000, learning_rate=0.1)\n",
    "\n",
    "# Test the model\n",
    "X_test = np.array([[1, 1], [-1, -1], [0.5, 0.5], [-0.5, 1.5]])  # Example test samples\n",
    "predictions = nn.predict(X_test)\n",
    "print(\"Predictions:\", predictions)\n",
    "\n",
    "# Convert predictions to binary (0 or 1)\n",
    "binary_predictions = (predictions > 0.5).astype(int)\n",
    "print(\"Binary Predictions:\", binary_predictions)\n",
    "\n",
    "plt.plot(range(len(losses)), losses, label='Values')"
   ]
  },
  {
   "cell_type": "code",
   "execution_count": null,
   "metadata": {},
   "outputs": [],
   "source": []
  }
 ],
 "metadata": {
  "kernelspec": {
   "display_name": "base",
   "language": "python",
   "name": "python3"
  },
  "language_info": {
   "codemirror_mode": {
    "name": "ipython",
    "version": 3
   },
   "file_extension": ".py",
   "mimetype": "text/x-python",
   "name": "python",
   "nbconvert_exporter": "python",
   "pygments_lexer": "ipython3",
   "version": "3.11.4"
  }
 },
 "nbformat": 4,
 "nbformat_minor": 2
}
